{
 "cells": [
  {
   "cell_type": "code",
   "execution_count": 1,
   "id": "a637f6f8-3371-41b6-901e-c29858a7de23",
   "metadata": {},
   "outputs": [
    {
     "name": "stdout",
     "output_type": "stream",
     "text": [
      "0    P\n",
      "1    a\n",
      "2    n\n",
      "3    d\n",
      "4    a\n",
      "5    s\n",
      "dtype: object\n"
     ]
    }
   ],
   "source": [
    "import pandas as pd \n",
    "import numpy as np\n",
    "info = np.array(['P','a','n','d','a','s'])\n",
    "a = pd.Series(info)\n",
    "print(a)"
   ]
  },
  {
   "cell_type": "code",
   "execution_count": 2,
   "id": "c1b46c73-7cbf-4c95-b108-3ed8be4716f6",
   "metadata": {},
   "outputs": [
    {
     "name": "stdout",
     "output_type": "stream",
     "text": [
      "        0\n",
      "0  Python\n",
      "1  Pandas\n"
     ]
    }
   ],
   "source": [
    "import pandas as pd\n",
    "x = ['Python','Pandas']\n",
    "df = pd.DataFrame(x)\n",
    "print(df)"
   ]
  },
  {
   "cell_type": "code",
   "execution_count": 3,
   "id": "d0b48021-31b2-42a0-92b2-7528baf1bf8f",
   "metadata": {},
   "outputs": [
    {
     "name": "stdout",
     "output_type": "stream",
     "text": [
      "0    Java\n",
      "1       C\n",
      "2     C++\n",
      "3     NaN\n",
      "dtype: object\n"
     ]
    }
   ],
   "source": [
    "import pandas as pd\n",
    "import numpy as np\n",
    "a = pd.Series(['Java','C','C++',np.nan])\n",
    "a.map({'Java':'Core'})\n",
    "print(a)"
   ]
  },
  {
   "cell_type": "code",
   "execution_count": 4,
   "id": "4de95fbe-8f56-4ab3-bdc0-4997c841f405",
   "metadata": {},
   "outputs": [
    {
     "data": {
      "text/plain": [
       "0    I like Java\n",
       "1       I like C\n",
       "2     I like C++\n",
       "3            NaN\n",
       "dtype: object"
      ]
     },
     "execution_count": 4,
     "metadata": {},
     "output_type": "execute_result"
    }
   ],
   "source": [
    "import pandas as pd\n",
    "import numpy as np\n",
    "a = pd.Series(['Java','C','C++',np.nan])\n",
    "a.map({'Java':'Core'})\n",
    "a.map(lambda x: 'I like {}'.format(x), na_action='ignore')"
   ]
  },
  {
   "cell_type": "code",
   "execution_count": 5,
   "id": "751fbab4-2115-46a0-a512-5adfb32f5748",
   "metadata": {},
   "outputs": [
    {
     "data": {
      "text/html": [
       "<div>\n",
       "<style scoped>\n",
       "    .dataframe tbody tr th:only-of-type {\n",
       "        vertical-align: middle;\n",
       "    }\n",
       "\n",
       "    .dataframe tbody tr th {\n",
       "        vertical-align: top;\n",
       "    }\n",
       "\n",
       "    .dataframe thead th {\n",
       "        text-align: right;\n",
       "    }\n",
       "</style>\n",
       "<table border=\"1\" class=\"dataframe\">\n",
       "  <thead>\n",
       "    <tr style=\"text-align: right;\">\n",
       "      <th></th>\n",
       "      <th>vals</th>\n",
       "    </tr>\n",
       "  </thead>\n",
       "  <tbody>\n",
       "    <tr>\n",
       "      <th>0</th>\n",
       "      <td>a</td>\n",
       "    </tr>\n",
       "    <tr>\n",
       "      <th>1</th>\n",
       "      <td>b</td>\n",
       "    </tr>\n",
       "    <tr>\n",
       "      <th>2</th>\n",
       "      <td>c</td>\n",
       "    </tr>\n",
       "  </tbody>\n",
       "</table>\n",
       "</div>"
      ],
      "text/plain": [
       "  vals\n",
       "0    a\n",
       "1    b\n",
       "2    c"
      ]
     },
     "execution_count": 5,
     "metadata": {},
     "output_type": "execute_result"
    }
   ],
   "source": [
    "s = pd.Series([\"a\", \"b\", \"c\"], name=\"vals\")\n",
    "s.to_frame()"
   ]
  },
  {
   "cell_type": "code",
   "execution_count": 6,
   "id": "46005d7c-fe9d-4dfe-8312-002c013dd94a",
   "metadata": {},
   "outputs": [
    {
     "name": "stdout",
     "output_type": "stream",
     "text": [
      "      Emp   ID\n",
      "0  Parker  102\n",
      "1    John  107\n",
      "2   Smith  109\n",
      "3  Willam  114\n"
     ]
    }
   ],
   "source": [
    "import pandas as pd\n",
    "import matplotlib.pyplot as plt\n",
    "emp = ['Parker', 'John', 'Smith', 'Willam']\n",
    "id = [102, 107, 109, 114]\n",
    "emp_series = pd.Series(emp)\n",
    "id_series = pd.Series(id)\n",
    "frame = {'Emp': emp_series, 'ID': id_series}\n",
    "result = pd.DataFrame(frame)\n",
    "print(result)"
   ]
  },
  {
   "cell_type": "code",
   "execution_count": 7,
   "id": "f5984979-804d-4cbd-8b98-bbc5d283cef7",
   "metadata": {},
   "outputs": [
    {
     "name": "stdout",
     "output_type": "stream",
     "text": [
      "    ID Department\n",
      "0  101       B.Sc\n",
      "1  102     B.Tech\n",
      "2  103     M,Tech\n"
     ]
    }
   ],
   "source": [
    "import pandas as pd\n",
    "info = {'ID':[101,102,103],'Department':['B.Sc','B.Tech','M,Tech']}\n",
    "df = pd.DataFrame(info)\n",
    "print(df)"
   ]
  },
  {
   "cell_type": "code",
   "execution_count": 8,
   "id": "296460e7-e950-4bf2-a9f2-eb255954f459",
   "metadata": {},
   "outputs": [
    {
     "name": "stdout",
     "output_type": "stream",
     "text": [
      "   one  two\n",
      "a  1.0    1\n",
      "b  2.0    2\n",
      "c  3.0    3\n",
      "d  4.0    4\n",
      "e  5.0    5\n",
      "f  NaN    6\n",
      "g  NaN    7\n",
      "h  NaN    8\n"
     ]
    }
   ],
   "source": [
    "import pandas as pd \n",
    "info = {\n",
    "'one': pd.Series([1, 2, 3, 4, 5], index=['a', 'b', 'c', 'd', 'e']),\n",
    "'two': pd.Series([1, 2, 3, 4, 5, 6, 7, 8], index=['a', 'b', 'c', 'd', 'e', 'f', 'g', 'h'])}\n",
    "d1 = pd.DataFrame(info)\n",
    "print(d1)"
   ]
  },
  {
   "cell_type": "code",
   "execution_count": 9,
   "id": "028d2b48-5d7d-44c5-a515-a198dfa6349c",
   "metadata": {},
   "outputs": [
    {
     "name": "stdout",
     "output_type": "stream",
     "text": [
      "     name  age         city\n",
      "0  Parker   25     New York\n",
      "1    John   30  Los Angeles\n",
      "2   Smith   22      Chicago\n",
      "3  Willam   28      Houston\n"
     ]
    }
   ],
   "source": [
    "import pandas as pd\n",
    "data = {\n",
    "    'name': ['Parker', 'John', 'Smith', 'Willam'],\n",
    "    'age': [25, 30, 22, 28],\n",
    "    'city': ['New York', 'Los Angeles', 'Chicago', 'Houston']\n",
    "}\n",
    "df = pd.DataFrame(data)\n",
    "print(df)\n"
   ]
  },
  {
   "cell_type": "code",
   "execution_count": 10,
   "id": "c12dec6a-9bd3-4b8c-b4be-9cd81dd75c73",
   "metadata": {},
   "outputs": [
    {
     "name": "stdout",
     "output_type": "stream",
     "text": [
      "     Name  Age         City\n",
      "0  Parker   25     New York\n",
      "1    John   30  Los Angeles\n",
      "2   Smith   22      Chicago\n",
      "3  Willam   28      Houston\n"
     ]
    }
   ],
   "source": [
    "import pandas as pd\n",
    "data = [\n",
    "    ['Parker', 25, 'New York'],\n",
    "    ['John', 30, 'Los Angeles'],\n",
    "    ['Smith', 22, 'Chicago'],\n",
    "    ['Willam', 28, 'Houston']\n",
    "]\n",
    "df = pd.DataFrame(data, columns=['Name', 'Age', 'City'])\n",
    "print(df)"
   ]
  },
  {
   "cell_type": "code",
   "execution_count": 11,
   "id": "183d00f8-6b5f-41a3-9a0f-b4c107d464e0",
   "metadata": {},
   "outputs": [
    {
     "name": "stdout",
     "output_type": "stream",
     "text": [
      "Add new column by passing series\n",
      "   one  two  three\n",
      "a  1.0    1   20.0\n",
      "b  2.0    2   40.0\n",
      "c  3.0    3   60.0\n",
      "d  4.0    4    NaN\n",
      "e  5.0    5    NaN\n",
      "f  NaN    6    NaN\n",
      "Add new column using existing DataFrame columns\n",
      "   one  two  three  four\n",
      "a  1.0    1   20.0  21.0\n",
      "b  2.0    2   40.0  42.0\n",
      "c  3.0    3   60.0  63.0\n",
      "d  4.0    4    NaN   NaN\n",
      "e  5.0    5    NaN   NaN\n",
      "f  NaN    6    NaN   NaN\n"
     ]
    }
   ],
   "source": [
    "import pandas as pd\n",
    "info = {\n",
    "'one': pd.Series([1, 2, 3, 4, 5], index=['a', 'b', 'c', 'd', 'e']),\n",
    "'two': pd.Series([1, 2, 3, 4, 5, 6], index=['a', 'b', 'c', 'd', 'e', 'f'])\n",
    "}\n",
    "df = pd.DataFrame(info)\n",
    "print(\"Add new column by passing series\")\n",
    "df['three'] = pd.Series([20, 40, 60], index=['a', 'b', 'c'])\n",
    "print(df)\n",
    "print(\"Add new column using existing DataFrame columns\")\n",
    "df['four'] = df['one'] + df['three']\n",
    "print(df)"
   ]
  },
  {
   "cell_type": "code",
   "execution_count": 12,
   "id": "a9952016-f8f7-49f2-a6ce-7cdc441f1768",
   "metadata": {},
   "outputs": [
    {
     "name": "stdout",
     "output_type": "stream",
     "text": [
      "The DataFrame:\n",
      "   one  two\n",
      "a  1.0    1\n",
      "b  2.0    2\n",
      "c  NaN    3\n",
      "Delete the first column:\n",
      "   two\n",
      "a    1\n",
      "b    2\n",
      "c    3\n",
      "Delete the another column:\n",
      "Empty DataFrame\n",
      "Columns: []\n",
      "Index: [a, b, c]\n"
     ]
    }
   ],
   "source": [
    "import pandas as pd\n",
    "info = {\n",
    "'one': pd.Series([1, 2], index=['a', 'b']),\n",
    "'two': pd.Series([1, 2, 3], index=['a', 'b', 'c'])\n",
    "}\n",
    "df = pd.DataFrame(info)\n",
    "print(\"The DataFrame:\")\n",
    "print(df)\n",
    "print(\"Delete the first column:\")\n",
    "del df['one'] \n",
    "print(df)\n",
    "print(\"Delete the another column:\")\n",
    "df.pop('two')\n",
    "print(df)"
   ]
  },
  {
   "cell_type": "code",
   "execution_count": 26,
   "id": "ec7ad5ef-12eb-430e-945c-cee593aeb394",
   "metadata": {},
   "outputs": [
    {
     "name": "stdout",
     "output_type": "stream",
     "text": [
      "one    2.0\n",
      "two    2.0\n",
      "Name: b, dtype: float64\n"
     ]
    }
   ],
   "source": [
    "import pandas as pd\n",
    "info = {\n",
    "'one': pd.Series([1, 2, 3, 4, 5], index=['a', 'b', 'c', 'd', 'e']),\n",
    "'two': pd.Series([1, 2, 3, 4, 5, 6], index=['a', 'b', 'c', 'd', 'e', 'f'])\n",
    "}\n",
    "df = pd.DataFrame(info)\n",
    "print(df.loc['b'])"
   ]
  },
  {
   "cell_type": "code",
   "execution_count": 1,
   "id": "df6b9696-a00c-4b80-a682-586bb8034580",
   "metadata": {},
   "outputs": [
    {
     "name": "stdout",
     "output_type": "stream",
     "text": [
      "CSE students: [{'name': 'John Doe', 'student_id': '1001', 'password': 'pass123', 'department': 'CSE'}, {'name': 'Bob Lee', 'student_id': '1004', 'password': 'pass101', 'department': 'CSE'}]\n",
      "Second student: {'name': 'Jane Smith', 'student_id': '1002', 'password': 'pass456', 'department': 'ECE'}\n",
      "Alice's ID: 1003\n"
     ]
    }
   ],
   "source": [
    "students = {\n",
    "    \"J1\": {\"name\": \"John Doe\", \"student_id\": \"1001\", \"password\": \"pass123\", \"department\": \"CSE\"},\n",
    "    \"J2\": {\"name\": \"Jane Smith\", \"student_id\": \"1002\", \"password\": \"pass456\", \"department\": \"ECE\"},\n",
    "    \"J3\": {\"name\": \"Alice Johnson\", \"student_id\": \"1003\", \"password\": \"pass789\", \"department\": \"ME\"},\n",
    "    \"J4\": {\"name\": \"Bob Lee\", \"student_id\": \"1004\", \"password\": \"pass101\", \"department\": \"CSE\"}\n",
    "}\n",
    "def get_students_by_department(department):\n",
    "    return [details for key, details in students.items() if details[\"department\"] == department]\n",
    "def get_student_by_index(index):\n",
    "    student_list = list(students.values())\n",
    "    if index < len(student_list):\n",
    "        return student_list[index]\n",
    "    else:\n",
    "        return \"Index out of range\"\n",
    "def get_student_id_by_name(name):\n",
    "    for student in students.values():\n",
    "        if student[\"name\"] == name:\n",
    "            return student[\"student_id\"]\n",
    "    return \"Student not found\"\n",
    "cse_students = get_students_by_department(\"CSE\")\n",
    "print(\"CSE students:\", cse_students)\n",
    "second_student = get_student_by_index(1)\n",
    "print(\"Second student:\", second_student)\n",
    "alice_id = get_student_id_by_name(\"Alice Johnson\")\n",
    "print(\"Alice's ID:\", alice_id)"
   ]
  },
  {
   "cell_type": "code",
   "execution_count": 5,
   "id": "a53951fc-02ba-4db1-889e-7c6f82dfbe69",
   "metadata": {},
   "outputs": [
    {
     "name": "stdout",
     "output_type": "stream",
     "text": [
      "DataFrame after appending new rows:\n",
      "    X   Y\n",
      "0   7   8\n",
      "1   9  10\n",
      "2  11  12\n",
      "3  13  14\n"
     ]
    },
    {
     "name": "stderr",
     "output_type": "stream",
     "text": [
      "C:\\Users\\gobin\\AppData\\Local\\Temp\\ipykernel_61820\\1636066222.py:4: FutureWarning: The frame.append method is deprecated and will be removed from pandas in a future version. Use pandas.concat instead.\n",
      "  d1 = d1.append(d2, ignore_index=True)\n"
     ]
    }
   ],
   "source": [
    "import pandas as pd\n",
    "d1 = pd.DataFrame([[7, 8], [9, 10]], columns=['X', 'Y'])\n",
    "d2 = pd.DataFrame([[11, 12], [13, 14]], columns=['X', 'Y'])\n",
    "d1 = d1.append(d2, ignore_index=True)\n",
    "print(\"DataFrame after appending new rows:\")\n",
    "print(d1)"
   ]
  },
  {
   "cell_type": "code",
   "execution_count": 7,
   "id": "92d0348c-97bc-4400-97ab-7dbee41e81af",
   "metadata": {},
   "outputs": [
    {
     "name": "stdout",
     "output_type": "stream",
     "text": [
      "DataFrame after dropping row with index 0:\n",
      "    x   y\n",
      "1   6   7\n",
      "2   8   9\n",
      "3  10  11\n"
     ]
    },
    {
     "name": "stderr",
     "output_type": "stream",
     "text": [
      "C:\\Users\\gobin\\AppData\\Local\\Temp\\ipykernel_61820\\2798672232.py:4: FutureWarning: The frame.append method is deprecated and will be removed from pandas in a future version. Use pandas.concat instead.\n",
      "  a_info = a_info.append(b_info, ignore_index=True)\n"
     ]
    }
   ],
   "source": [
    "import pandas as pd\n",
    "a_info = pd.DataFrame([[4, 5], [6, 7]], columns=['x', 'y'])\n",
    "b_info = pd.DataFrame([[8, 9], [10, 11]], columns=['x', 'y'])\n",
    "a_info = a_info.append(b_info, ignore_index=True)\n",
    "a_info = a_info.drop(0)\n",
    "print(\"DataFrame after dropping row with index 0:\")\n",
    "print(a_info)\n"
   ]
  },
  {
   "cell_type": "code",
   "execution_count": null,
   "id": "1173cd20-3c24-48e2-b556-b24c0080b966",
   "metadata": {},
   "outputs": [],
   "source": []
  }
 ],
 "metadata": {
  "kernelspec": {
   "display_name": "Python 3 (ipykernel)",
   "language": "python",
   "name": "python3"
  },
  "language_info": {
   "codemirror_mode": {
    "name": "ipython",
    "version": 3
   },
   "file_extension": ".py",
   "mimetype": "text/x-python",
   "name": "python",
   "nbconvert_exporter": "python",
   "pygments_lexer": "ipython3",
   "version": "3.11.4"
  }
 },
 "nbformat": 4,
 "nbformat_minor": 5
}
